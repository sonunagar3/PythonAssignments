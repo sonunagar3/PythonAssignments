{
 "cells": [
  {
   "cell_type": "markdown",
   "id": "6ebf530f",
   "metadata": {},
   "source": [
    "1. Explain what inheritance is in object-oriented programming and why it is used.\n",
    "\n",
    "Inheritance is a fundamental concept in OOP where a new class called the derived or subclass. inherits properties and behaviors from an existing class called the base or superclass. The derived class can reuse and extend the attributes and methods of the base class. Inheritance promotes code reuse, modularity, and the ability to create specialized classes from more general ones."
   ]
  },
  {
   "cell_type": "markdown",
   "id": "8313e0fc",
   "metadata": {},
   "source": [
    "2. Discuss the concept of single inheritance and multiple inheritance, highlighting their differences and advantages.\n",
    "\n",
    "In single inheritance, a class inherits from only one base class. It ensures a clear and simple hierarchy but limits the ability to inherit from multiple sources.\n",
    "\n",
    "In multiple inheritance, a class can inherit from multiple base classes. This allows a derived class to inherit attributes and methods from multiple sources. However, it can lead to ambiguity and complexity in certain scenarios."
   ]
  },
  {
   "cell_type": "markdown",
   "id": "f7585f5f",
   "metadata": {},
   "source": [
    "3. Explain the terms \"base class\" and \"derived class\" in the context of inheritance.\n",
    "\n",
    "Base Class Also known as the superclass or parent class, the base class is the class whose attributes and methods are inherited by another class.\n",
    "\n",
    "Derived Class Also known as the subclass or child class, the derived class inherits attributes and methods from the base class and can also add its own attributes and methods."
   ]
  },
  {
   "cell_type": "markdown",
   "id": "14ecf906",
   "metadata": {},
   "source": [
    "4. What is the significance of the \"protected\" access modifier in inheritance? \n",
    "How does it differ from \"private\" and \"public\" modifiers?\n",
    "\n",
    "The \"protected\" access modifier allows the members (attributes and methods) of a base class to be accessed within the derived class, but not from outside the class hierarchy.\n",
    "\n",
    "Modifier\tAccessibility\n",
    "Private\t    Within class\n",
    "Protected\tSubclasses\n",
    "Public\t    Everywhere\n"
   ]
  },
  {
   "cell_type": "markdown",
   "id": "5180410e",
   "metadata": {},
   "source": [
    "5. What is the purpose of the \"super\" keyword in inheritance? Provide an example."
   ]
  },
  {
   "cell_type": "markdown",
   "id": "7da9026a",
   "metadata": {},
   "source": [
    "The super keyword is used to call methods from the base class. It allows a derived class to invoke the constructor or methods of its base class. This is particularly useful when you want to extend the behavior of the base class's method in the derived class."
   ]
  },
  {
   "cell_type": "code",
   "execution_count": 1,
   "id": "b456bc8f",
   "metadata": {},
   "outputs": [
    {
     "name": "stdout",
     "output_type": "stream",
     "text": [
      "Base class method\n",
      "Derived class method\n"
     ]
    }
   ],
   "source": [
    "class Base:\n",
    "    def some_method(self):\n",
    "        print(\"Base class method\")\n",
    "\n",
    "class Derived(Base):\n",
    "    def some_method(self):\n",
    "        super().some_method()  # Calls the some_method() of the base class\n",
    "        print(\"Derived class method\")\n",
    "\n",
    "# Create an instance of the derived class\n",
    "derived_instance = Derived()\n",
    "derived_instance.some_method()"
   ]
  },
  {
   "cell_type": "markdown",
   "id": "2ca98964",
   "metadata": {},
   "source": [
    "6. Create a base class called \"Vehicle\" with attributes like \"make\", \"model\", and \"year\".\n",
    "Then, create a derived class called \"Car\" that inherits from \"Vehicle\" and adds an\n",
    "attribute called \"fuel_type\". Implement appropriate methods in both classes."
   ]
  },
  {
   "cell_type": "code",
   "execution_count": 2,
   "id": "0f4d6317",
   "metadata": {},
   "outputs": [
    {
     "name": "stdout",
     "output_type": "stream",
     "text": [
      "Toyota Camry 2023 Gasoline\n"
     ]
    }
   ],
   "source": [
    "class Vehicle:\n",
    "    def __init__(self, make, model, year):\n",
    "        self.make = make\n",
    "        self.model = model\n",
    "        self.year = year\n",
    "\n",
    "class Car(Vehicle):\n",
    "    def __init__(self, make, model, year, fuel_type):\n",
    "        super().__init__(make, model, year)\n",
    "        self.fuel_type = fuel_type\n",
    "\n",
    "car = Car(\"Toyota\", \"Camry\", 2023, \"Gasoline\")\n",
    "print(car.make, car.model, car.year, car.fuel_type)"
   ]
  },
  {
   "cell_type": "markdown",
   "id": "d0f617f2",
   "metadata": {},
   "source": [
    "7. Create a base class called \"Employee\" with attributes like \"name\" and \"salary.\"\n",
    "Derive two classes, \"Manager\" and \"Developer,\" from \"Employee.\" Add an additional\n",
    "attribute called \"department\" for the \"Manager\" class and \"programming_language\"\n",
    "for the \"Developer\" class."
   ]
  },
  {
   "cell_type": "code",
   "execution_count": 3,
   "id": "5984679f",
   "metadata": {},
   "outputs": [
    {
     "name": "stdout",
     "output_type": "stream",
     "text": [
      "John 60000 HR Python\n",
      "Alice 75000 HR Python\n"
     ]
    }
   ],
   "source": [
    "class Employee:\n",
    "    def __init__(self, name, salary):\n",
    "        self.name = name\n",
    "        self.salary = salary\n",
    "\n",
    "class Manager(Employee):\n",
    "    def __init__(self, name, salary, department):\n",
    "        super().__init__(name, salary)\n",
    "        self.department = department\n",
    "\n",
    "class Developer(Employee):\n",
    "    def __init__(self, name, salary, programming_language):\n",
    "        super().__init__(name, salary)\n",
    "        self.programming_language = programming_language\n",
    "\n",
    "manager = Manager(\"John\", 60000, \"HR\")\n",
    "developer = Developer(\"Alice\", 75000, \"Python\")\n",
    "print(manager.name, manager.salary, manager.department, developer.programming_language)\n",
    "print(developer.name, developer.salary, manager.department, developer.programming_language)"
   ]
  },
  {
   "cell_type": "markdown",
   "id": "86ca95fd",
   "metadata": {},
   "source": [
    "8. Design a base class called \"Shape\" with attributes like \"colour\" and \"border_width.\"\n",
    "Create derived classes, \"Rectangle\" and \"Circle,\" that inherit from \"Shape\" and add\n",
    "specific attributes like \"length\" and \"width\" for the \"Rectangle\" class and \"radius\" for\n",
    "the \"Circle\" class."
   ]
  },
  {
   "cell_type": "code",
   "execution_count": 4,
   "id": "47b9f196",
   "metadata": {},
   "outputs": [
    {
     "name": "stdout",
     "output_type": "stream",
     "text": [
      "Red Blue 2 1\n"
     ]
    }
   ],
   "source": [
    "class Shape:\n",
    "    def __init__(self, colour, border_width):\n",
    "        self.colour = colour\n",
    "        self.border_width = border_width\n",
    "\n",
    "class Rectangle(Shape):\n",
    "    def __init__(self, colour, border_width, length, width):\n",
    "        super().__init__(colour, border_width)\n",
    "        self.length = length\n",
    "        self.width = width\n",
    "\n",
    "class Circle(Shape):\n",
    "    def __init__(self, colour, border_width, radius):\n",
    "        super().__init__(colour, border_width)\n",
    "        self.radius = radius\n",
    "\n",
    "rectangle = Rectangle(\"Red\", 2, 10, 8)\n",
    "circle = Circle(\"Blue\", 1, 5)\n",
    "print(rectangle.colour, circle.colour, rectangle.border_width, circle.border_width)"
   ]
  },
  {
   "cell_type": "markdown",
   "id": "115010d9",
   "metadata": {},
   "source": [
    "9. Create a base class called \"Device\" with attributes like \"brand\" and \"model.\" Derive\n",
    "two classes, \"Phone\" and \"Tablet,\" from \"Device.\" Add specific attributes like\n",
    "\"screen_size\" for the \"Phone\" class and \"battery_capacity\" for the \"Tablet\" class."
   ]
  },
  {
   "cell_type": "code",
   "execution_count": 5,
   "id": "947f1c92",
   "metadata": {},
   "outputs": [],
   "source": [
    "class Device:\n",
    "    def __init__(self, brand, model):\n",
    "        self.brand = brand\n",
    "        self.model = model\n",
    "\n",
    "class Phone(Device):\n",
    "    def __init__(self, brand, model, screen_size):\n",
    "        super().__init__(brand, model)\n",
    "        self.screen_size = screen_size\n",
    "\n",
    "class Tablet(Device):\n",
    "    def __init__(self, brand, model, battery_capacity):\n",
    "        super().__init__(brand, model)\n",
    "        self.battery_capacity = battery_capacity\n",
    "\n",
    "phone = Phone(\"Apple\", \"iPhone 13\", 6.1)\n",
    "tablet = Tablet(\"Samsung\", \"Galaxy Tab S7\", \"8000 mAh\")\n"
   ]
  },
  {
   "cell_type": "markdown",
   "id": "6c2246fa",
   "metadata": {},
   "source": [
    "10. Create a base class called \"BankAccount\" with attributes like \"account_number\" and\n",
    "\"balance.\" Derive two classes, \"SavingsAccount\" and \"CheckingAccount,\" from\n",
    "\"BankAccount.\" Add specific methods like \"calculate_interest\" for the\n",
    "\"SavingsAccount\" class and \"deduct_fees\" for the \"CheckingAccount\" class."
   ]
  },
  {
   "cell_type": "code",
   "execution_count": 6,
   "id": "a86b3b75",
   "metadata": {},
   "outputs": [],
   "source": [
    "class BankAccount:\n",
    "    def __init__(self, account_number, balance):\n",
    "        self.account_number = account_number\n",
    "        self.balance = balance\n",
    "\n",
    "class SavingsAccount(BankAccount):\n",
    "    def calculate_interest(self, rate):\n",
    "        return self.balance * rate / 100\n",
    "\n",
    "class CheckingAccount(BankAccount):\n",
    "    def deduct_fees(self, fee):\n",
    "        self.balance -= fee\n",
    "\n",
    "savings = SavingsAccount(\"12345\", 1000)\n",
    "checking = CheckingAccount(\"67890\", 500)"
   ]
  },
  {
   "cell_type": "code",
   "execution_count": null,
   "id": "2bca0f87",
   "metadata": {},
   "outputs": [],
   "source": []
  }
 ],
 "metadata": {
  "kernelspec": {
   "display_name": "Python 3 (ipykernel)",
   "language": "python",
   "name": "python3"
  },
  "language_info": {
   "codemirror_mode": {
    "name": "ipython",
    "version": 3
   },
   "file_extension": ".py",
   "mimetype": "text/x-python",
   "name": "python",
   "nbconvert_exporter": "python",
   "pygments_lexer": "ipython3",
   "version": "3.9.13"
  }
 },
 "nbformat": 4,
 "nbformat_minor": 5
}
